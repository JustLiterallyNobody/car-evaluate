{
 "cells": [
  {
   "cell_type": "code",
   "execution_count": 1,
   "id": "683cd917",
   "metadata": {},
   "outputs": [],
   "source": [
    "import numpy as np\n",
    "import pandas as pd\n",
    "from matplotlib import pyplot as plt\n",
    "\n",
    "from sklearn.model_selection import train_test_split\n",
    "from sklearn.linear_model import LogisticRegression\n",
    "from sklearn.tree import DecisionTreeClassifier\n",
    "from sklearn.metrics import accuracy_score, f1_score"
   ]
  },
  {
   "cell_type": "markdown",
   "id": "85493f10",
   "metadata": {},
   "source": [
    "# Data processing"
   ]
  },
  {
   "cell_type": "code",
   "execution_count": 2,
   "id": "1df5651f",
   "metadata": {},
   "outputs": [
    {
     "data": {
      "text/html": [
       "<div>\n",
       "<style scoped>\n",
       "    .dataframe tbody tr th:only-of-type {\n",
       "        vertical-align: middle;\n",
       "    }\n",
       "\n",
       "    .dataframe tbody tr th {\n",
       "        vertical-align: top;\n",
       "    }\n",
       "\n",
       "    .dataframe thead th {\n",
       "        text-align: right;\n",
       "    }\n",
       "</style>\n",
       "<table border=\"1\" class=\"dataframe\">\n",
       "  <thead>\n",
       "    <tr style=\"text-align: right;\">\n",
       "      <th></th>\n",
       "      <th>0</th>\n",
       "      <th>1</th>\n",
       "      <th>2</th>\n",
       "      <th>3</th>\n",
       "      <th>4</th>\n",
       "      <th>5</th>\n",
       "      <th>6</th>\n",
       "    </tr>\n",
       "  </thead>\n",
       "  <tbody>\n",
       "    <tr>\n",
       "      <th>0</th>\n",
       "      <td>vhigh</td>\n",
       "      <td>vhigh</td>\n",
       "      <td>2</td>\n",
       "      <td>2</td>\n",
       "      <td>small</td>\n",
       "      <td>low</td>\n",
       "      <td>unacc</td>\n",
       "    </tr>\n",
       "    <tr>\n",
       "      <th>1</th>\n",
       "      <td>vhigh</td>\n",
       "      <td>vhigh</td>\n",
       "      <td>2</td>\n",
       "      <td>2</td>\n",
       "      <td>small</td>\n",
       "      <td>med</td>\n",
       "      <td>unacc</td>\n",
       "    </tr>\n",
       "    <tr>\n",
       "      <th>2</th>\n",
       "      <td>vhigh</td>\n",
       "      <td>vhigh</td>\n",
       "      <td>2</td>\n",
       "      <td>2</td>\n",
       "      <td>small</td>\n",
       "      <td>high</td>\n",
       "      <td>unacc</td>\n",
       "    </tr>\n",
       "    <tr>\n",
       "      <th>3</th>\n",
       "      <td>vhigh</td>\n",
       "      <td>vhigh</td>\n",
       "      <td>2</td>\n",
       "      <td>2</td>\n",
       "      <td>med</td>\n",
       "      <td>low</td>\n",
       "      <td>unacc</td>\n",
       "    </tr>\n",
       "    <tr>\n",
       "      <th>4</th>\n",
       "      <td>vhigh</td>\n",
       "      <td>vhigh</td>\n",
       "      <td>2</td>\n",
       "      <td>2</td>\n",
       "      <td>med</td>\n",
       "      <td>med</td>\n",
       "      <td>unacc</td>\n",
       "    </tr>\n",
       "  </tbody>\n",
       "</table>\n",
       "</div>"
      ],
      "text/plain": [
       "       0      1  2  3      4     5      6\n",
       "0  vhigh  vhigh  2  2  small   low  unacc\n",
       "1  vhigh  vhigh  2  2  small   med  unacc\n",
       "2  vhigh  vhigh  2  2  small  high  unacc\n",
       "3  vhigh  vhigh  2  2    med   low  unacc\n",
       "4  vhigh  vhigh  2  2    med   med  unacc"
      ]
     },
     "execution_count": 2,
     "metadata": {},
     "output_type": "execute_result"
    }
   ],
   "source": [
    "df = pd.read_csv(\"./car.csv\", header=None)\n",
    "df.head()"
   ]
  },
  {
   "cell_type": "code",
   "execution_count": 3,
   "id": "678a1c41",
   "metadata": {},
   "outputs": [
    {
     "data": {
      "text/html": [
       "<div>\n",
       "<style scoped>\n",
       "    .dataframe tbody tr th:only-of-type {\n",
       "        vertical-align: middle;\n",
       "    }\n",
       "\n",
       "    .dataframe tbody tr th {\n",
       "        vertical-align: top;\n",
       "    }\n",
       "\n",
       "    .dataframe thead th {\n",
       "        text-align: right;\n",
       "    }\n",
       "</style>\n",
       "<table border=\"1\" class=\"dataframe\">\n",
       "  <thead>\n",
       "    <tr style=\"text-align: right;\">\n",
       "      <th></th>\n",
       "      <th>buying</th>\n",
       "      <th>maintain</th>\n",
       "      <th>doors</th>\n",
       "      <th>seats</th>\n",
       "      <th>cargo</th>\n",
       "      <th>safety</th>\n",
       "      <th>worth</th>\n",
       "    </tr>\n",
       "  </thead>\n",
       "  <tbody>\n",
       "    <tr>\n",
       "      <th>0</th>\n",
       "      <td>vhigh</td>\n",
       "      <td>vhigh</td>\n",
       "      <td>2</td>\n",
       "      <td>2</td>\n",
       "      <td>small</td>\n",
       "      <td>low</td>\n",
       "      <td>unacc</td>\n",
       "    </tr>\n",
       "    <tr>\n",
       "      <th>1</th>\n",
       "      <td>vhigh</td>\n",
       "      <td>vhigh</td>\n",
       "      <td>2</td>\n",
       "      <td>2</td>\n",
       "      <td>small</td>\n",
       "      <td>med</td>\n",
       "      <td>unacc</td>\n",
       "    </tr>\n",
       "    <tr>\n",
       "      <th>2</th>\n",
       "      <td>vhigh</td>\n",
       "      <td>vhigh</td>\n",
       "      <td>2</td>\n",
       "      <td>2</td>\n",
       "      <td>small</td>\n",
       "      <td>high</td>\n",
       "      <td>unacc</td>\n",
       "    </tr>\n",
       "    <tr>\n",
       "      <th>3</th>\n",
       "      <td>vhigh</td>\n",
       "      <td>vhigh</td>\n",
       "      <td>2</td>\n",
       "      <td>2</td>\n",
       "      <td>med</td>\n",
       "      <td>low</td>\n",
       "      <td>unacc</td>\n",
       "    </tr>\n",
       "    <tr>\n",
       "      <th>4</th>\n",
       "      <td>vhigh</td>\n",
       "      <td>vhigh</td>\n",
       "      <td>2</td>\n",
       "      <td>2</td>\n",
       "      <td>med</td>\n",
       "      <td>med</td>\n",
       "      <td>unacc</td>\n",
       "    </tr>\n",
       "  </tbody>\n",
       "</table>\n",
       "</div>"
      ],
      "text/plain": [
       "  buying maintain doors seats  cargo safety  worth\n",
       "0  vhigh    vhigh     2     2  small    low  unacc\n",
       "1  vhigh    vhigh     2     2  small    med  unacc\n",
       "2  vhigh    vhigh     2     2  small   high  unacc\n",
       "3  vhigh    vhigh     2     2    med    low  unacc\n",
       "4  vhigh    vhigh     2     2    med    med  unacc"
      ]
     },
     "execution_count": 3,
     "metadata": {},
     "output_type": "execute_result"
    }
   ],
   "source": [
    "df.columns = [\"buying\", \"maintain\", \"doors\", \"seats\", \"cargo\", \"safety\", \"worth\"]\n",
    "df.head()"
   ]
  },
  {
   "cell_type": "code",
   "execution_count": 4,
   "id": "9b02c96e",
   "metadata": {},
   "outputs": [
    {
     "data": {
      "text/html": [
       "<div>\n",
       "<style scoped>\n",
       "    .dataframe tbody tr th:only-of-type {\n",
       "        vertical-align: middle;\n",
       "    }\n",
       "\n",
       "    .dataframe tbody tr th {\n",
       "        vertical-align: top;\n",
       "    }\n",
       "\n",
       "    .dataframe thead th {\n",
       "        text-align: right;\n",
       "    }\n",
       "</style>\n",
       "<table border=\"1\" class=\"dataframe\">\n",
       "  <thead>\n",
       "    <tr style=\"text-align: right;\">\n",
       "      <th></th>\n",
       "      <th>buying</th>\n",
       "      <th>maintain</th>\n",
       "      <th>doors</th>\n",
       "      <th>seats</th>\n",
       "      <th>cargo</th>\n",
       "      <th>safety</th>\n",
       "      <th>worth</th>\n",
       "    </tr>\n",
       "  </thead>\n",
       "  <tbody>\n",
       "    <tr>\n",
       "      <th>count</th>\n",
       "      <td>1728</td>\n",
       "      <td>1728</td>\n",
       "      <td>1728</td>\n",
       "      <td>1728</td>\n",
       "      <td>1728</td>\n",
       "      <td>1728</td>\n",
       "      <td>1728</td>\n",
       "    </tr>\n",
       "    <tr>\n",
       "      <th>unique</th>\n",
       "      <td>4</td>\n",
       "      <td>4</td>\n",
       "      <td>4</td>\n",
       "      <td>3</td>\n",
       "      <td>3</td>\n",
       "      <td>3</td>\n",
       "      <td>4</td>\n",
       "    </tr>\n",
       "    <tr>\n",
       "      <th>top</th>\n",
       "      <td>vhigh</td>\n",
       "      <td>vhigh</td>\n",
       "      <td>2</td>\n",
       "      <td>2</td>\n",
       "      <td>small</td>\n",
       "      <td>low</td>\n",
       "      <td>unacc</td>\n",
       "    </tr>\n",
       "    <tr>\n",
       "      <th>freq</th>\n",
       "      <td>432</td>\n",
       "      <td>432</td>\n",
       "      <td>432</td>\n",
       "      <td>576</td>\n",
       "      <td>576</td>\n",
       "      <td>576</td>\n",
       "      <td>1210</td>\n",
       "    </tr>\n",
       "  </tbody>\n",
       "</table>\n",
       "</div>"
      ],
      "text/plain": [
       "       buying maintain doors seats  cargo safety  worth\n",
       "count    1728     1728  1728  1728   1728   1728   1728\n",
       "unique      4        4     4     3      3      3      4\n",
       "top     vhigh    vhigh     2     2  small    low  unacc\n",
       "freq      432      432   432   576    576    576   1210"
      ]
     },
     "execution_count": 4,
     "metadata": {},
     "output_type": "execute_result"
    }
   ],
   "source": [
    "df.describe()"
   ]
  },
  {
   "cell_type": "code",
   "execution_count": 5,
   "id": "56d0497a",
   "metadata": {},
   "outputs": [
    {
     "name": "stdout",
     "output_type": "stream",
     "text": [
      "<class 'pandas.core.frame.DataFrame'>\n",
      "RangeIndex: 1728 entries, 0 to 1727\n",
      "Data columns (total 7 columns):\n",
      " #   Column    Non-Null Count  Dtype \n",
      "---  ------    --------------  ----- \n",
      " 0   buying    1728 non-null   object\n",
      " 1   maintain  1728 non-null   object\n",
      " 2   doors     1728 non-null   object\n",
      " 3   seats     1728 non-null   object\n",
      " 4   cargo     1728 non-null   object\n",
      " 5   safety    1728 non-null   object\n",
      " 6   worth     1728 non-null   object\n",
      "dtypes: object(7)\n",
      "memory usage: 94.6+ KB\n"
     ]
    }
   ],
   "source": [
    "df.info()"
   ]
  },
  {
   "cell_type": "code",
   "execution_count": 6,
   "id": "212286de",
   "metadata": {},
   "outputs": [
    {
     "name": "stdout",
     "output_type": "stream",
     "text": [
      "buying ['vhigh' 'high' 'med' 'low']\n",
      "maintain ['vhigh' 'high' 'med' 'low']\n",
      "doors ['2' '3' '4' '5more']\n",
      "seats ['2' '4' 'more']\n",
      "cargo ['small' 'med' 'big']\n",
      "safety ['low' 'med' 'high']\n",
      "worth ['unacc' 'acc' 'vgood' 'good']\n"
     ]
    }
   ],
   "source": [
    "for i in df.columns:\n",
    "    print(i, df[i].unique())"
   ]
  },
  {
   "cell_type": "markdown",
   "id": "81151879",
   "metadata": {},
   "source": [
    "=> Data Description: There are 1728 datapoints. None of those contain null data"
   ]
  },
  {
   "cell_type": "markdown",
   "id": "4b8d7a27",
   "metadata": {},
   "source": [
    "The datatype of all columns are object. Normalize to Int"
   ]
  },
  {
   "cell_type": "code",
   "execution_count": 7,
   "id": "7b53895a",
   "metadata": {},
   "outputs": [
    {
     "name": "stderr",
     "output_type": "stream",
     "text": [
      "/miniconda3/lib/python3.9/site-packages/statsmodels/compat/pandas.py:61: FutureWarning: pandas.Int64Index is deprecated and will be removed from pandas in a future version. Use pandas.Index with the appropriate dtype instead.\n",
      "  from pandas import Int64Index as NumericIndex\n",
      "/miniconda3/lib/python3.9/site-packages/category_encoders/utils.py:21: FutureWarning: is_categorical is deprecated and will be removed in a future version. Use is_categorical_dtype instead.\n",
      "  elif pd.api.types.is_categorical(cols):\n"
     ]
    }
   ],
   "source": [
    "import category_encoders\n",
    "encoder = category_encoders.OrdinalEncoder(cols=[\"buying\", \"maintain\", \"doors\", \"seats\", \"cargo\", \"safety\", \"worth\"])\n",
    "df = encoder.fit_transform(df)"
   ]
  },
  {
   "cell_type": "code",
   "execution_count": 8,
   "id": "d2356458",
   "metadata": {},
   "outputs": [
    {
     "name": "stdout",
     "output_type": "stream",
     "text": [
      "buying      int64\n",
      "maintain    int64\n",
      "doors       int64\n",
      "seats       int64\n",
      "cargo       int64\n",
      "safety      int64\n",
      "worth       int64\n",
      "dtype: object\n"
     ]
    }
   ],
   "source": [
    "print(df.dtypes)"
   ]
  },
  {
   "cell_type": "code",
   "execution_count": 9,
   "id": "b53b8433",
   "metadata": {},
   "outputs": [
    {
     "name": "stdout",
     "output_type": "stream",
     "text": [
      "buying [1 2 3 4]\n",
      "maintain [1 2 3 4]\n",
      "doors [1 2 3 4]\n",
      "seats [1 2 3]\n",
      "cargo [1 2 3]\n",
      "safety [1 2 3]\n",
      "worth [1 2 3 4]\n"
     ]
    }
   ],
   "source": [
    "for i in df.columns:\n",
    "    print(i, df[i].unique())"
   ]
  },
  {
   "cell_type": "code",
   "execution_count": 10,
   "id": "1393ac9c",
   "metadata": {},
   "outputs": [
    {
     "data": {
      "text/html": [
       "<div>\n",
       "<style scoped>\n",
       "    .dataframe tbody tr th:only-of-type {\n",
       "        vertical-align: middle;\n",
       "    }\n",
       "\n",
       "    .dataframe tbody tr th {\n",
       "        vertical-align: top;\n",
       "    }\n",
       "\n",
       "    .dataframe thead th {\n",
       "        text-align: right;\n",
       "    }\n",
       "</style>\n",
       "<table border=\"1\" class=\"dataframe\">\n",
       "  <thead>\n",
       "    <tr style=\"text-align: right;\">\n",
       "      <th></th>\n",
       "      <th>buying</th>\n",
       "      <th>maintain</th>\n",
       "      <th>doors</th>\n",
       "      <th>seats</th>\n",
       "      <th>cargo</th>\n",
       "      <th>safety</th>\n",
       "      <th>worth</th>\n",
       "    </tr>\n",
       "  </thead>\n",
       "  <tbody>\n",
       "    <tr>\n",
       "      <th>0</th>\n",
       "      <td>1</td>\n",
       "      <td>1</td>\n",
       "      <td>1</td>\n",
       "      <td>1</td>\n",
       "      <td>1</td>\n",
       "      <td>1</td>\n",
       "      <td>1</td>\n",
       "    </tr>\n",
       "    <tr>\n",
       "      <th>1</th>\n",
       "      <td>1</td>\n",
       "      <td>1</td>\n",
       "      <td>1</td>\n",
       "      <td>1</td>\n",
       "      <td>1</td>\n",
       "      <td>2</td>\n",
       "      <td>1</td>\n",
       "    </tr>\n",
       "    <tr>\n",
       "      <th>2</th>\n",
       "      <td>1</td>\n",
       "      <td>1</td>\n",
       "      <td>1</td>\n",
       "      <td>1</td>\n",
       "      <td>1</td>\n",
       "      <td>3</td>\n",
       "      <td>1</td>\n",
       "    </tr>\n",
       "    <tr>\n",
       "      <th>3</th>\n",
       "      <td>1</td>\n",
       "      <td>1</td>\n",
       "      <td>1</td>\n",
       "      <td>1</td>\n",
       "      <td>2</td>\n",
       "      <td>1</td>\n",
       "      <td>1</td>\n",
       "    </tr>\n",
       "    <tr>\n",
       "      <th>4</th>\n",
       "      <td>1</td>\n",
       "      <td>1</td>\n",
       "      <td>1</td>\n",
       "      <td>1</td>\n",
       "      <td>2</td>\n",
       "      <td>2</td>\n",
       "      <td>1</td>\n",
       "    </tr>\n",
       "    <tr>\n",
       "      <th>5</th>\n",
       "      <td>1</td>\n",
       "      <td>1</td>\n",
       "      <td>1</td>\n",
       "      <td>1</td>\n",
       "      <td>2</td>\n",
       "      <td>3</td>\n",
       "      <td>1</td>\n",
       "    </tr>\n",
       "    <tr>\n",
       "      <th>6</th>\n",
       "      <td>1</td>\n",
       "      <td>1</td>\n",
       "      <td>1</td>\n",
       "      <td>1</td>\n",
       "      <td>3</td>\n",
       "      <td>1</td>\n",
       "      <td>1</td>\n",
       "    </tr>\n",
       "    <tr>\n",
       "      <th>7</th>\n",
       "      <td>1</td>\n",
       "      <td>1</td>\n",
       "      <td>1</td>\n",
       "      <td>1</td>\n",
       "      <td>3</td>\n",
       "      <td>2</td>\n",
       "      <td>1</td>\n",
       "    </tr>\n",
       "    <tr>\n",
       "      <th>8</th>\n",
       "      <td>1</td>\n",
       "      <td>1</td>\n",
       "      <td>1</td>\n",
       "      <td>1</td>\n",
       "      <td>3</td>\n",
       "      <td>3</td>\n",
       "      <td>1</td>\n",
       "    </tr>\n",
       "    <tr>\n",
       "      <th>9</th>\n",
       "      <td>1</td>\n",
       "      <td>1</td>\n",
       "      <td>1</td>\n",
       "      <td>2</td>\n",
       "      <td>1</td>\n",
       "      <td>1</td>\n",
       "      <td>1</td>\n",
       "    </tr>\n",
       "    <tr>\n",
       "      <th>10</th>\n",
       "      <td>1</td>\n",
       "      <td>1</td>\n",
       "      <td>1</td>\n",
       "      <td>2</td>\n",
       "      <td>1</td>\n",
       "      <td>2</td>\n",
       "      <td>1</td>\n",
       "    </tr>\n",
       "    <tr>\n",
       "      <th>11</th>\n",
       "      <td>1</td>\n",
       "      <td>1</td>\n",
       "      <td>1</td>\n",
       "      <td>2</td>\n",
       "      <td>1</td>\n",
       "      <td>3</td>\n",
       "      <td>1</td>\n",
       "    </tr>\n",
       "    <tr>\n",
       "      <th>12</th>\n",
       "      <td>1</td>\n",
       "      <td>1</td>\n",
       "      <td>1</td>\n",
       "      <td>2</td>\n",
       "      <td>2</td>\n",
       "      <td>1</td>\n",
       "      <td>1</td>\n",
       "    </tr>\n",
       "    <tr>\n",
       "      <th>13</th>\n",
       "      <td>1</td>\n",
       "      <td>1</td>\n",
       "      <td>1</td>\n",
       "      <td>2</td>\n",
       "      <td>2</td>\n",
       "      <td>2</td>\n",
       "      <td>1</td>\n",
       "    </tr>\n",
       "    <tr>\n",
       "      <th>14</th>\n",
       "      <td>1</td>\n",
       "      <td>1</td>\n",
       "      <td>1</td>\n",
       "      <td>2</td>\n",
       "      <td>2</td>\n",
       "      <td>3</td>\n",
       "      <td>1</td>\n",
       "    </tr>\n",
       "  </tbody>\n",
       "</table>\n",
       "</div>"
      ],
      "text/plain": [
       "    buying  maintain  doors  seats  cargo  safety  worth\n",
       "0        1         1      1      1      1       1      1\n",
       "1        1         1      1      1      1       2      1\n",
       "2        1         1      1      1      1       3      1\n",
       "3        1         1      1      1      2       1      1\n",
       "4        1         1      1      1      2       2      1\n",
       "5        1         1      1      1      2       3      1\n",
       "6        1         1      1      1      3       1      1\n",
       "7        1         1      1      1      3       2      1\n",
       "8        1         1      1      1      3       3      1\n",
       "9        1         1      1      2      1       1      1\n",
       "10       1         1      1      2      1       2      1\n",
       "11       1         1      1      2      1       3      1\n",
       "12       1         1      1      2      2       1      1\n",
       "13       1         1      1      2      2       2      1\n",
       "14       1         1      1      2      2       3      1"
      ]
     },
     "execution_count": 10,
     "metadata": {},
     "output_type": "execute_result"
    }
   ],
   "source": [
    "df.head(15)"
   ]
  },
  {
   "cell_type": "code",
   "execution_count": 11,
   "id": "34be5ea6",
   "metadata": {},
   "outputs": [
    {
     "name": "stdout",
     "output_type": "stream",
     "text": [
      "      buying  maintain  doors  seats  cargo  safety  worth\n",
      "1528       4         3      1      2      3       2      4\n"
     ]
    }
   ],
   "source": [
    "print(df.loc[[1528]])"
   ]
  },
  {
   "cell_type": "markdown",
   "id": "cd219f4f",
   "metadata": {},
   "source": [
    "Prepare features and labels"
   ]
  },
  {
   "cell_type": "code",
   "execution_count": 12,
   "id": "caf37096",
   "metadata": {},
   "outputs": [
    {
     "name": "stdout",
     "output_type": "stream",
     "text": [
      "(1728, 6)\n",
      "(1728,)\n"
     ]
    }
   ],
   "source": [
    "X = df.drop([\"worth\"], axis=1)\n",
    "y = df[\"worth\"]\n",
    "print(X.shape)\n",
    "print(y.shape)"
   ]
  },
  {
   "cell_type": "markdown",
   "id": "1db80982",
   "metadata": {},
   "source": [
    "Train - Validate split"
   ]
  },
  {
   "cell_type": "code",
   "execution_count": 13,
   "id": "40985d5c",
   "metadata": {},
   "outputs": [
    {
     "name": "stdout",
     "output_type": "stream",
     "text": [
      "(1382, 6)\n",
      "(1382,)\n",
      "(346, 6)\n",
      "(346,)\n"
     ]
    }
   ],
   "source": [
    "X_train, X_val, y_train, y_val = train_test_split(X, y, test_size = 0.2, random_state = 42)\n",
    "print(X_train.shape)\n",
    "print(y_train.shape)\n",
    "print(X_val.shape)\n",
    "print(y_val.shape)"
   ]
  },
  {
   "cell_type": "markdown",
   "id": "055f7f3b",
   "metadata": {},
   "source": [
    "Train - Validate - Test split"
   ]
  },
  {
   "cell_type": "code",
   "execution_count": 14,
   "id": "42e01eee",
   "metadata": {
    "scrolled": true
   },
   "outputs": [
    {
     "name": "stdout",
     "output_type": "stream",
     "text": [
      "(1036, 6)\n",
      "(1036,)\n",
      "(692, 6)\n",
      "(692,)\n"
     ]
    }
   ],
   "source": [
    "X_train_2, X_rem, y_train_2, y_rem = train_test_split(X, y, test_size = 0.4, random_state = 42)\n",
    "print(X_train_2.shape)\n",
    "print(y_train_2.shape)\n",
    "print(X_rem.shape)\n",
    "print(y_rem.shape)"
   ]
  },
  {
   "cell_type": "code",
   "execution_count": 15,
   "id": "1acd312b",
   "metadata": {
    "scrolled": true
   },
   "outputs": [
    {
     "name": "stdout",
     "output_type": "stream",
     "text": [
      "(346, 6)\n",
      "(346,)\n",
      "(346, 6)\n",
      "(346,)\n"
     ]
    }
   ],
   "source": [
    "X_val_2, X_test, y_val_2, y_test = train_test_split(X_rem, y_rem, test_size = 0.5, random_state = 42)\n",
    "print(X_val_2.shape)\n",
    "print(y_val_2.shape)\n",
    "print(X_test.shape)\n",
    "print(y_test.shape)"
   ]
  },
  {
   "cell_type": "markdown",
   "id": "4b15c789",
   "metadata": {},
   "source": [
    "# Logistic Regression"
   ]
  },
  {
   "cell_type": "markdown",
   "id": "b1598e9d",
   "metadata": {},
   "source": [
    "Fit and Validate 80-20 set"
   ]
  },
  {
   "cell_type": "code",
   "execution_count": 16,
   "id": "72acf562",
   "metadata": {},
   "outputs": [],
   "source": [
    "logi_regr = LogisticRegression()"
   ]
  },
  {
   "cell_type": "code",
   "execution_count": 17,
   "id": "a1e23491",
   "metadata": {},
   "outputs": [
    {
     "name": "stdout",
     "output_type": "stream",
     "text": [
      "training accuracy:  0.83\n",
      "training f1_score:  0.825\n",
      "validate accuracy:  0.815\n",
      "validate f1_score:  0.808\n"
     ]
    },
    {
     "name": "stderr",
     "output_type": "stream",
     "text": [
      "/miniconda3/lib/python3.9/site-packages/sklearn/linear_model/_logistic.py:814: ConvergenceWarning: lbfgs failed to converge (status=1):\n",
      "STOP: TOTAL NO. of ITERATIONS REACHED LIMIT.\n",
      "\n",
      "Increase the number of iterations (max_iter) or scale the data as shown in:\n",
      "    https://scikit-learn.org/stable/modules/preprocessing.html\n",
      "Please also refer to the documentation for alternative solver options:\n",
      "    https://scikit-learn.org/stable/modules/linear_model.html#logistic-regression\n",
      "  n_iter_i = _check_optimize_result(\n"
     ]
    }
   ],
   "source": [
    "logi_regr.fit(X_train, y_train)\n",
    "\n",
    "y_pred_train = logi_regr.predict(X_train)\n",
    "acc_train = round(accuracy_score(y_train, y_pred_train), 3)\n",
    "f1_train = round(f1_score(y_train, y_pred_train, average = \"weighted\"), 3)\n",
    "\n",
    "y_pred_val = logi_regr.predict(X_val)\n",
    "acc_val = round(accuracy_score(y_val, y_pred_val), 3)\n",
    "f1_val = round(f1_score(y_val, y_pred_val, average = \"weighted\"), 3)\n",
    "\n",
    "print(\"training accuracy: \", acc_train)\n",
    "print(\"training f1_score: \", f1_train)\n",
    "print(\"validate accuracy: \", acc_val)\n",
    "print(\"validate f1_score: \", f1_val)"
   ]
  },
  {
   "cell_type": "markdown",
   "id": "68ed930d",
   "metadata": {},
   "source": [
    "Fit and Validate 60-20-20 set"
   ]
  },
  {
   "cell_type": "code",
   "execution_count": 18,
   "id": "897f2701",
   "metadata": {},
   "outputs": [
    {
     "name": "stdout",
     "output_type": "stream",
     "text": [
      "training accuracy:  0.819\n",
      "training f1_score:  0.813\n",
      "validate accuracy:  0.824\n",
      "validate f1_score:  0.822\n"
     ]
    },
    {
     "name": "stderr",
     "output_type": "stream",
     "text": [
      "/miniconda3/lib/python3.9/site-packages/sklearn/linear_model/_logistic.py:814: ConvergenceWarning: lbfgs failed to converge (status=1):\n",
      "STOP: TOTAL NO. of ITERATIONS REACHED LIMIT.\n",
      "\n",
      "Increase the number of iterations (max_iter) or scale the data as shown in:\n",
      "    https://scikit-learn.org/stable/modules/preprocessing.html\n",
      "Please also refer to the documentation for alternative solver options:\n",
      "    https://scikit-learn.org/stable/modules/linear_model.html#logistic-regression\n",
      "  n_iter_i = _check_optimize_result(\n"
     ]
    }
   ],
   "source": [
    "logi_regr.fit(X_train_2, y_train_2)\n",
    "\n",
    "y_pred_train = logi_regr.predict(X_train_2)\n",
    "acc_train = round(accuracy_score(y_train_2, y_pred_train), 3)\n",
    "f1_train = round(f1_score(y_train_2, y_pred_train, average = \"weighted\"), 3)\n",
    "\n",
    "y_pred_val = logi_regr.predict(X_val_2)\n",
    "acc_val = round(accuracy_score(y_val_2, y_pred_val), 3)\n",
    "f1_val = round(f1_score(y_val_2, y_pred_val, average = \"weighted\"), 3)\n",
    "\n",
    "print(\"training accuracy: \", acc_train)\n",
    "print(\"training f1_score: \", f1_train)\n",
    "print(\"validate accuracy: \", acc_val)\n",
    "print(\"validate f1_score: \", f1_val)"
   ]
  },
  {
   "cell_type": "markdown",
   "id": "0d65029d",
   "metadata": {},
   "source": [
    "# Decision Tree"
   ]
  },
  {
   "cell_type": "code",
   "execution_count": 19,
   "id": "48bbe9c2",
   "metadata": {},
   "outputs": [
    {
     "name": "stdout",
     "output_type": "stream",
     "text": [
      "Depth: 1 | Accuracy Train: 0.705 | f1_score Train: 0.584 | Accuracy Val: 0.679 | f1_score Val: 0.549\n",
      "Depth: 2 | Accuracy Train: 0.773 | f1_score Train: 0.764 | Accuracy Val: 0.798 | f1_score Val: 0.781\n",
      "Depth: 3 | Accuracy Train: 0.787 | f1_score Train: 0.752 | Accuracy Val: 0.812 | f1_score Val: 0.774\n",
      "Depth: 4 | Accuracy Train: 0.853 | f1_score Train: 0.85 | Accuracy Val: 0.841 | f1_score Val: 0.84\n",
      "Depth: 5 | Accuracy Train: 0.867 | f1_score Train: 0.855 | Accuracy Val: 0.89 | f1_score Val: 0.879\n",
      "Depth: 6 | Accuracy Train: 0.933 | f1_score Train: 0.936 | Accuracy Val: 0.939 | f1_score Val: 0.943\n",
      "Depth: 7 | Accuracy Train: 0.941 | f1_score Train: 0.941 | Accuracy Val: 0.922 | f1_score Val: 0.922\n",
      "Depth: 8 | Accuracy Train: 0.983 | f1_score Train: 0.983 | Accuracy Val: 0.948 | f1_score Val: 0.954\n",
      "Depth: 9 | Accuracy Train: 0.988 | f1_score Train: 0.988 | Accuracy Val: 0.954 | f1_score Val: 0.955\n",
      "Depth: 10 | Accuracy Train: 0.996 | f1_score Train: 0.996 | Accuracy Val: 0.965 | f1_score Val: 0.967\n",
      "Depth: 11 | Accuracy Train: 0.999 | f1_score Train: 0.999 | Accuracy Val: 0.965 | f1_score Val: 0.968\n",
      "Depth: 12 | Accuracy Train: 1.0 | f1_score Train: 1.0 | Accuracy Val: 0.968 | f1_score Val: 0.969\n",
      "Depth: 13 | Accuracy Train: 1.0 | f1_score Train: 1.0 | Accuracy Val: 0.965 | f1_score Val: 0.968\n",
      "Depth: 14 | Accuracy Train: 1.0 | f1_score Train: 1.0 | Accuracy Val: 0.971 | f1_score Val: 0.972\n",
      "Depth: 15 | Accuracy Train: 1.0 | f1_score Train: 1.0 | Accuracy Val: 0.971 | f1_score Val: 0.972\n"
     ]
    }
   ],
   "source": [
    "depth = [1, 2, 3, 4, 5, 6, 7, 8, 9, 10, 11, 12, 13, 14, 15]\n",
    "\n",
    "train_scores, val_scores = [], []\n",
    "\n",
    "for d in depth:\n",
    "    decision_tree = DecisionTreeClassifier(max_depth = d)\n",
    "    decision_tree.fit(X_train, y_train)\n",
    "    \n",
    "    y_pred_train = decision_tree.predict(X_train)\n",
    "    acc_train = round(accuracy_score(y_train, y_pred_train), 3)\n",
    "    train_scores.append(accuracy_score(y_train, y_pred_train))\n",
    "    f1_train = round(f1_score(y_train, y_pred_train, average = \"weighted\"), 3)\n",
    "    \n",
    "    y_pred_val = decision_tree.predict(X_val)\n",
    "    acc_val = round(accuracy_score(y_val, y_pred_val), 3)\n",
    "    val_scores.append(accuracy_score(y_val, y_pred_val))\n",
    "    f1_val = round(f1_score(y_val, y_pred_val, average = \"weighted\"), 3)\n",
    "    \n",
    "    print(f\"Depth: {d} | Accuracy Train: {acc_train} | f1_score Train: {f1_train} | Accuracy Val: {acc_val} | f1_score Val: {f1_val}\")\n",
    "    "
   ]
  },
  {
   "cell_type": "code",
   "execution_count": 20,
   "id": "aaa2a0ec",
   "metadata": {},
   "outputs": [
    {
     "data": {
      "image/png": "[encoded data removed]",
      "text/plain": [
       "<Figure size 432x288 with 1 Axes>"
      ]
     },
     "metadata": {
      "needs_background": "light"
     },
     "output_type": "display_data"
    }
   ],
   "source": [
    "plt.xlabel(\"Tree Depth\")\n",
    "plt.ylabel(\"Accuracy Score\")\n",
    "plt.title(\"Train vs Val Accuracy Score\")\n",
    "plt.plot(depth, train_scores, '-o', label='Train')\n",
    "plt.plot(depth, val_scores, '-o', label='Validation')\n",
    "plt.legend()\n",
    "plt.show()"
   ]
  },
  {
   "cell_type": "code",
   "execution_count": null,
   "id": "206bb8b0",
   "metadata": {},
   "outputs": [],
   "source": []
  }
 ],
 "metadata": {
  "kernelspec": {
   "display_name": "Python 3 (ipykernel)",
   "language": "python",
   "name": "python3"
  },
  "language_info": {
   "codemirror_mode": {
    "name": "ipython",
    "version": 3
   },
   "file_extension": ".py",
   "mimetype": "text/x-python",
   "name": "python",
   "nbconvert_exporter": "python",
   "pygments_lexer": "ipython3",
   "version": "3.9.5"
  }
 },
 "nbformat": 4,
 "nbformat_minor": 5
}
